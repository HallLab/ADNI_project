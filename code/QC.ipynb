{
 "metadata": {
  "language_info": {
   "codemirror_mode": {
    "name": "ipython",
    "version": 3
   },
   "file_extension": ".py",
   "mimetype": "text/x-python",
   "name": "python",
   "nbconvert_exporter": "python",
   "pygments_lexer": "ipython3",
   "version": "3.9.4"
  },
  "orig_nbformat": 2,
  "kernelspec": {
   "name": "python394jvsc74a57bd04264206bc710cd40cc621d04235a2f5b479d4a96e2a9431f438adbe860f78c93",
   "display_name": "Python 3.9.4 64-bit ('adni_project': conda)"
  },
  "metadata": {
   "interpreter": {
    "hash": "4264206bc710cd40cc621d04235a2f5b479d4a96e2a9431f438adbe860f78c93"
   }
  }
 },
 "nbformat": 4,
 "nbformat_minor": 2,
 "cells": [
  {
   "source": [
    "# QC process \n",
    "\n",
    "For p180 dataset"
   ],
   "cell_type": "markdown",
   "metadata": {}
  },
  {
   "cell_type": "code",
   "execution_count": 1,
   "metadata": {},
   "outputs": [
    {
     "output_type": "stream",
     "name": "stderr",
     "text": [
      "/storage/home/tug156/work/software/anaconda3/envs/adni_project/lib/python3.9/site-packages/outdated/utils.py:14: OutdatedPackageWarning: The package outdated is out of date. Your version is 0.2.0, the latest is 0.2.1.\nSet the environment variable OUTDATED_IGNORE=1 to disable these warnings.\n  return warn(\n/storage/home/tug156/work/software/anaconda3/envs/adni_project/lib/python3.9/site-packages/outdated/utils.py:14: OutdatedPackageWarning: The package pingouin is out of date. Your version is 0.3.11, the latest is 0.3.12.\nSet the environment variable OUTDATED_IGNORE=1 to disable these warnings.\n  return warn(\n"
     ]
    }
   ],
   "source": [
    "import pandas as pd \n",
    "import clean\n"
   ]
  },
  {
   "cell_type": "code",
   "execution_count": 2,
   "metadata": {},
   "outputs": [
    {
     "output_type": "stream",
     "name": "stderr",
     "text": [
      "/storage/home/tug156/work/software/anaconda3/envs/adni_project/lib/python3.9/site-packages/pandas/core/frame.py:4308: SettingWithCopyWarning: \n",
      "A value is trying to be set on a copy of a slice from a DataFrame\n",
      "\n",
      "See the caveats in the documentation: https://pandas.pydata.org/pandas-docs/stable/user_guide/indexing.html#returning-a-view-versus-a-copy\n",
      "  return super().drop(\n",
      "/storage/home/tug156/work/software/anaconda3/envs/adni_project/lib/python3.9/site-packages/IPython/core/interactiveshell.py:3361: DtypeWarning: Columns (15,16,18,19,21,22,25,26,28,29,31,33,39,49,51,57,61,62,63) have mixed types.Specify dtype option on import or set low_memory=False.\n",
      "  if (await self.run_code(code, result,  async_=asy)):\n",
      "/storage/work/t/tug156/ADNI_project/code/clean.py:124: FutureWarning: The default value of regex will change from True to False in a future version.\n",
      "  new_columns = old_columns.str.replace(pat='-|:|\\(|\\)| ', repl='.')\n"
     ]
    }
   ],
   "source": [
    "#### Read files\n",
    "# Note that all non-numeric values, such as < LOD are interpreted as NA. \n",
    "# See ADNI documentation for more information on what those categories mean\n",
    "final_IDs = pd.read_csv('../results/FinalIDs.csv', header=None)\n",
    "p180 = clean.P180()"
   ]
  },
  {
   "source": [
    "## Remove metabolites\n",
    "\n",
    "- With high missing data (>20%): All non-numeric data is transformed to NA when reading the dataset\n",
    "- With high CV (>20%) among replicates\n",
    "- With low ICC (<65%) among replicates"
   ],
   "cell_type": "markdown",
   "metadata": {}
  },
  {
   "cell_type": "code",
   "execution_count": 3,
   "metadata": {},
   "outputs": [
    {
     "output_type": "stream",
     "name": "stdout",
     "text": [
      "-----Removing metabolites with missing data greater than 0.2-----\nWe will remove the following 9 metabolites for ADNI1 UPLC:\n            missing\nAc.Orn     0.946796\nc4.OH.Pro  0.954051\nCarnosine  0.997582\nDOPA       0.910520\nDopamine   0.998791\nMet.So     0.431681\nNitro.Tyr  0.979444\nPEA        1.000000\nSpermine   0.662636\n\nWe will remove the following 24 metabolites for ADNI1 FIA:\n                  missing\nC10.1            0.730351\nC12.DC           1.000000\nC12.1            0.897219\nC14              0.753325\nC14.2.OH         0.481258\nC16.OH           0.232164\nC16.1.OH         0.886336\nC16.2            0.506651\nC16.2.OH         1.000000\nC18.1.OH         0.848851\nC3.OH            0.727932\nC3.1             0.524788\nC4.1             0.821040\nC5.M.DC          0.775091\nC5.OH..C3.DC.M.  0.562273\nC5.1             0.910520\nC5.1.DC          0.274486\nC6.1             0.698912\nC8               0.259976\nlysoPC.a.C14.0   0.876663\nPC.aa.C26.0      0.865780\nPC.aa.C40.1      0.420798\nPC.ae.C38.1      0.320435\nPC.ae.C42.0      0.986699\n\nWe will remove the following 9 metabolites for ADNI2GO UPLC:\n            missing\nAc.Orn     1.000000\nc4.OH.Pro  0.998895\ncanosine   1.000000\nDOPA       0.524862\nDopamine   0.998895\nHistamine  0.266298\nNitro.Tyr  0.998895\nPEA        0.998895\nSpermine   0.218785\n\nWe will remove the following 15 metabolites for ADNI2GO FIA:\n                  missing\nC10.1            0.992265\nC12.DC           1.000000\nC12.1            1.000000\nC14              0.415470\nC16.1.OH         0.581215\nC16.2            0.319337\nC16.2.OH         0.833149\nC18.1.OH         0.379006\nC5.OH..C3.DC.M.  0.430939\nC5.1.DC          0.205525\nlysoPC.a.C14.0   1.000000\nPC.aa.C26.0      0.992265\nPC.aa.C40.1      0.459669\nPC.ae.C38.1      0.225414\nPC.ae.C42.0      0.958011\n\n"
     ]
    }
   ],
   "source": [
    "p180.remove_missing_metabolites()"
   ]
  },
  {
   "cell_type": "code",
   "execution_count": 4,
   "metadata": {},
   "outputs": [
    {
     "output_type": "stream",
     "name": "stdout",
     "text": [
      "-----Computing cross-plate correction-----\n\n"
     ]
    }
   ],
   "source": [
    "p180.compute_cross_plate_correction() "
   ]
  },
  {
   "cell_type": "code",
   "execution_count": 5,
   "metadata": {},
   "outputs": [
    {
     "output_type": "stream",
     "name": "stdout",
     "text": [
      "-----Removing metabolites with CV values greater than 0.2-----\nWe will remove the following 1 metabolites for ADNI1 UPLC:\n                  CV\nPutrescine  0.280918\n\nWe will remove the following 1 metabolites for ADNI1 FIA:\n                   CV\nPC.ae.C30.1  0.398056\n\nNone of the metabolites were dropped for ADNI2GO UPLC\n\nWe will remove the following 2 metabolites for ADNI2GO FIA:\n                      CV\nlysoPC.a.C26.0  0.211681\nPC.ae.C30.1     0.406996\n\n"
     ]
    }
   ],
   "source": [
    "p180.remove_metabolites_cv()"
   ]
  },
  {
   "cell_type": "code",
   "execution_count": 6,
   "metadata": {},
   "outputs": [
    {
     "output_type": "stream",
     "name": "stdout",
     "text": [
      "-----Removing metabolites with ICC values lower than 0.65-----\n",
      "We will remove the following 3 metabolites for ADNI1 UPLC:\n",
      "                ICC\n",
      "ADMA       0.509429\n",
      "alpha.AAA  0.490690\n",
      "Histamine  0.168544\n",
      "\n",
      "We will remove the following 6 metabolites for ADNI1 FIA:\n",
      "                     ICC\n",
      "lysoPC.a.C26.1  0.442189\n",
      "PC.aa.C24.0     0.467755\n",
      "PC.aa.C34.1     0.236032\n",
      "PC.aa.C34.2     0.152361\n",
      "PC.aa.C36.2     0.306261\n",
      "PC.aa.C36.4     0.520622\n",
      "\n",
      "We will remove the following 1 metabolites for ADNI2GO UPLC:\n",
      "          ICC\n",
      "Gln  0.580919\n",
      "\n",
      "We will remove the following 3 metabolites for ADNI2GO FIA:\n",
      "                     ICC\n",
      "C16.OH          0.539695\n",
      "C3.DC..C4.OH.   0.619517\n",
      "lysoPC.a.C26.1  0.379790\n",
      "\n"
     ]
    }
   ],
   "source": [
    "p180.remove_metabolites_icc()"
   ]
  },
  {
   "cell_type": "code",
   "execution_count": 7,
   "metadata": {},
   "outputs": [
    {
     "output_type": "stream",
     "name": "stdout",
     "text": [
      "-----Harmonizing metabolites-----\nWe will remove 1 metabolites in ADNI1 UPLC\n\nWe will remove 4 metabolites in ADNI2GO UPLC\n\nWe will remove 2 metabolites in ADNI1 FIA\n\nWe will remove 13 metabolites in ADNI2GO FIA\n\n"
     ]
    }
   ],
   "source": [
    "p180.harmonize_metabolites()"
   ]
  },
  {
   "source": [
    "## Remove participants\n",
    "\n",
    "- With high missing data (>40%)"
   ],
   "cell_type": "markdown",
   "metadata": {}
  },
  {
   "cell_type": "code",
   "execution_count": 8,
   "metadata": {},
   "outputs": [
    {
     "output_type": "stream",
     "name": "stdout",
     "text": [
      "-----Removing participants with missing data greater than 0.4-----\nWe will remove 0 participants for ADNI1 UPLC\n\nWe will remove 1 participants for ADNI1 FIA\n\nWe will remove 0 participants for ADNI2GO UPLC\n\nWe will remove 0 participants for ADNI2GO FIA\n\n"
     ]
    }
   ],
   "source": [
    "p180.remove_missing_participants()"
   ]
  },
  {
   "source": [
    "- Consolidate biological replicates: averaging across replicates"
   ],
   "cell_type": "markdown",
   "metadata": {}
  },
  {
   "cell_type": "code",
   "execution_count": 9,
   "metadata": {},
   "outputs": [
    {
     "output_type": "stream",
     "name": "stdout",
     "text": [
      "-----Consolidating replicates-----\n",
      "There are 20 replicated IDs in ADNI1 UPLC\n",
      "\n",
      "There are 20 replicated IDs in ADNI1 FIA\n",
      "\n",
      "There are 16 replicated IDs in ADNI2GO UPLC\n",
      "\n",
      "There are 16 replicated IDs in ADNI2GO FIA\n",
      "\n"
     ]
    }
   ],
   "source": [
    "p180.consolidate_replicates()"
   ]
  },
  {
   "source": [
    "- Remove non-fasters"
   ],
   "cell_type": "markdown",
   "metadata": {}
  },
  {
   "cell_type": "code",
   "execution_count": 10,
   "metadata": {},
   "outputs": [
    {
     "output_type": "stream",
     "name": "stdout",
     "text": [
      "-----Removing non-fasting participants-----\nWe will remove 60 participants in ADNI1 UPLC\n\nWe will remove 60 participants in ADNI1 FIA\n\nWe will remove 28 participants in ADNI2GO UPLC\n\nWe will remove 28 participants in ADNI2GO FIA\n\n"
     ]
    }
   ],
   "source": [
    "p180.remove_non_fasters()"
   ]
  },
  {
   "cell_type": "code",
   "execution_count": 11,
   "metadata": {},
   "outputs": [
    {
     "output_type": "stream",
     "name": "stdout",
     "text": [
      "-----Harmonizing participants-----\n",
      "\n",
      "We will remove 1 participants in ADNI1 UPLC\n",
      "\n",
      "We will remove 0 participants in ADNI1 FIA\n",
      "\n",
      "We will remove 0 participants in ADNI2GO UPLC\n",
      "\n",
      "We will remove 0 participants in ADNI2GO FIA\n",
      "\n"
     ]
    }
   ],
   "source": [
    "p180.harmonize_participants()"
   ]
  },
  {
   "source": [
    "## Data transformation\n",
    "\n",
    "- Transform NAs into LOD/2 values\n",
    "- Transform concentration values to log2\n",
    "- Scale to mean center and unit variance\n",
    "- Transform extreme values to max or min 3 std\n",
    "- Remove multivariate outliers"
   ],
   "cell_type": "markdown",
   "metadata": {}
  },
  {
   "cell_type": "code",
   "execution_count": 12,
   "metadata": {},
   "outputs": [
    {
     "output_type": "stream",
     "name": "stdout",
     "text": [
      "-----Imputing metabolites-----\n",
      "We will impute 3 metabolites in ADNI1 UPLC\n",
      "\n",
      "We will impute 23 metabolites in ADNI1 FIA\n",
      "\n",
      "We will impute 3 metabolites in ADNI2GO UPLC\n",
      "\n",
      "We will impute 12 metabolites in ADNI2GO FIA\n",
      "\n",
      "-----Log2 transform-----\n",
      "\n",
      "-----Scaling metabolites-----\n",
      "\n",
      "-----Replacing extreme values-----\n",
      "We replaced 140 values in ADNI1 UPLC\n",
      "\n",
      "We replaced 365 values in ADNI1 FIA\n",
      "\n",
      "We replaced 153 values in ADNI2GO UPLC\n",
      "\n",
      "We replaced 441 values in ADNI2GO FIA\n",
      "\n",
      "-----Removing multivariate outliers-----\n",
      "We will remove 39 participants from ADNI1 UPLC\n",
      "\n",
      "We will remove 76 participants from ADNI1 FIA\n",
      "\n",
      "We will remove 45 participants from ADNI2GO UPLC\n",
      "\n",
      "We will remove 87 participants from ADNI2GO FIA\n",
      "\n"
     ]
    }
   ],
   "source": [
    "p180.impute_metabolites()\n",
    "p180.transform_metabolites_log2()\n",
    "p180.scale_metabolites()\n",
    "p180.replace_three_std()\n",
    "p180.remove_multivariate_outliers()"
   ]
  },
  {
   "cell_type": "code",
   "execution_count": 13,
   "metadata": {},
   "outputs": [
    {
     "output_type": "stream",
     "name": "stdout",
     "text": [
      "-----Harmonizing participants-----\n\nWe will remove 66 participants in ADNI1 UPLC\n\nWe will remove 29 participants in ADNI1 FIA\n\nWe will remove 70 participants in ADNI2GO UPLC\n\nWe will remove 28 participants in ADNI2GO FIA\n\n"
     ]
    }
   ],
   "source": [
    "p180.harmonize_participants()"
   ]
  },
  {
   "cell_type": "code",
   "execution_count": 30,
   "metadata": {},
   "outputs": [
    {
     "output_type": "execute_result",
     "data": {
      "text/plain": [
       "497"
      ]
     },
     "metadata": {},
     "execution_count": 30
    }
   ],
   "source": [
    "sum(p180.data[0].index.isin(final_IDs[0]))"
   ]
  },
  {
   "cell_type": "code",
   "execution_count": 32,
   "metadata": {},
   "outputs": [
    {
     "output_type": "execute_result",
     "data": {
      "text/plain": [
       "585"
      ]
     },
     "metadata": {},
     "execution_count": 32
    }
   ],
   "source": [
    "sum(p180.data[2].index.isin(final_IDs[0]))"
   ]
  },
  {
   "source": [
    "Next:\n",
    "- Adjust for significant medication (perhaps residuals from regression)"
   ],
   "cell_type": "markdown",
   "metadata": {}
  }
 ]
}