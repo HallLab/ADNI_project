{
 "metadata": {
  "language_info": {
   "codemirror_mode": {
    "name": "ipython",
    "version": 3
   },
   "file_extension": ".py",
   "mimetype": "text/x-python",
   "name": "python",
   "nbconvert_exporter": "python",
   "pygments_lexer": "ipython3",
   "version": "3.9.4"
  },
  "orig_nbformat": 2,
  "kernelspec": {
   "name": "python394jvsc74a57bd04264206bc710cd40cc621d04235a2f5b479d4a96e2a9431f438adbe860f78c93",
   "display_name": "Python 3.9.4 64-bit ('adni_project': conda)"
  },
  "metadata": {
   "interpreter": {
    "hash": "4264206bc710cd40cc621d04235a2f5b479d4a96e2a9431f438adbe860f78c93"
   }
  }
 },
 "nbformat": 4,
 "nbformat_minor": 2,
 "cells": [
  {
   "cell_type": "code",
   "execution_count": 1,
   "metadata": {},
   "outputs": [],
   "source": [
    "#### Import libraries\n",
    "import pandas as pd\n",
    "import numpy as np"
   ]
  },
  {
   "cell_type": "code",
   "execution_count": 57,
   "metadata": {},
   "outputs": [
    {
     "output_type": "stream",
     "name": "stderr",
     "text": [
      "/storage/home/tug156/work/software/anaconda3/envs/adni_project/lib/python3.9/site-packages/IPython/core/interactiveshell.py:3169: DtypeWarning: Columns (20,90,91) have mixed types.Specify dtype option on import or set low_memory=False.\n  has_raised = await self.run_ast_nodes(code_ast.body, cell_name,\n"
     ]
    },
    {
     "output_type": "execute_result",
     "data": {
      "text/plain": [
       "        RID VISCODE COLPROT ORIGPROT    EXAMDATE DX.bl   AGE PTGENDER  \\\n",
       "0         2      bl   ADNI1    ADNI1  2005-09-08    CN  74.3     Male   \n",
       "1         2     m06   ADNI1    ADNI1  2006-03-06    CN  74.3     Male   \n",
       "2         2     m36   ADNI1    ADNI1  2008-08-27    CN  74.3     Male   \n",
       "3         2     m60  ADNIGO    ADNI1  2010-09-22    CN  74.3     Male   \n",
       "4         2     m66  ADNIGO    ADNI1  2011-03-04    CN  74.3     Male   \n",
       "...     ...     ...     ...      ...         ...   ...   ...      ...   \n",
       "12744  5295      bl   ADNI2    ADNI2  2013-12-11   SMC  75.5   Female   \n",
       "12745  5295     m03   ADNI2    ADNI2  2014-02-14   SMC  75.5   Female   \n",
       "12746  5295     m24   ADNI2    ADNI2  2015-12-08   SMC  75.5   Female   \n",
       "12747  5296      bl   ADNI2    ADNI2  2013-12-18   SMC  69.3     Male   \n",
       "12748  5296     m24   ADNI2    ADNI2  2015-12-17   SMC  69.3     Male   \n",
       "\n",
       "       PTEDUCAT         PTETHCAT  ... ABETA.bl PTAU.bl TAU.bl    FDG.bl  \\\n",
       "0            16  Not Hisp/Latino  ...      NaN     NaN    NaN  1.369264   \n",
       "1            16  Not Hisp/Latino  ...      NaN     NaN    NaN  1.369264   \n",
       "2            16  Not Hisp/Latino  ...      NaN     NaN    NaN  1.369264   \n",
       "3            16  Not Hisp/Latino  ...      NaN     NaN    NaN  1.369264   \n",
       "4            16  Not Hisp/Latino  ...      NaN     NaN    NaN  1.369264   \n",
       "...         ...              ...  ...      ...     ...    ...       ...   \n",
       "12744        15  Not Hisp/Latino  ...    416.8    8.53  88.69  1.163174   \n",
       "12745        15  Not Hisp/Latino  ...    416.8    8.53  88.69  1.163174   \n",
       "12746        15  Not Hisp/Latino  ...    416.8    8.53  88.69  1.163174   \n",
       "12747        14  Not Hisp/Latino  ...     1460    20.9  224.9  1.429264   \n",
       "12748        14  Not Hisp/Latino  ...     1460    20.9  224.9  1.429264   \n",
       "\n",
       "       PIB.bl   AV45.bl  Years.bl   Month.bl Month   M  \n",
       "0         NaN       NaN  0.000000   0.000000     0   0  \n",
       "1         NaN       NaN  0.490075   5.868852     6   6  \n",
       "2         NaN       NaN  2.967830  35.540984    36  36  \n",
       "3         NaN       NaN  5.037645  60.327869    60  60  \n",
       "4         NaN       NaN  5.483915  65.672131    66  66  \n",
       "...       ...       ...       ...        ...   ...  ..  \n",
       "12744     NaN  1.319026  0.000000   0.000000     0   0  \n",
       "12745     NaN  1.319026  0.177960   2.131148     3   3  \n",
       "12746     NaN  1.319026  1.990418  23.836066    24  24  \n",
       "12747     NaN  1.138379  0.000000   0.000000     0   0  \n",
       "12748     NaN  1.138379  1.995893  23.901639    24  24  \n",
       "\n",
       "[12749 rows x 99 columns]"
      ],
      "text/html": "<div>\n<style scoped>\n    .dataframe tbody tr th:only-of-type {\n        vertical-align: middle;\n    }\n\n    .dataframe tbody tr th {\n        vertical-align: top;\n    }\n\n    .dataframe thead th {\n        text-align: right;\n    }\n</style>\n<table border=\"1\" class=\"dataframe\">\n  <thead>\n    <tr style=\"text-align: right;\">\n      <th></th>\n      <th>RID</th>\n      <th>VISCODE</th>\n      <th>COLPROT</th>\n      <th>ORIGPROT</th>\n      <th>EXAMDATE</th>\n      <th>DX.bl</th>\n      <th>AGE</th>\n      <th>PTGENDER</th>\n      <th>PTEDUCAT</th>\n      <th>PTETHCAT</th>\n      <th>...</th>\n      <th>ABETA.bl</th>\n      <th>PTAU.bl</th>\n      <th>TAU.bl</th>\n      <th>FDG.bl</th>\n      <th>PIB.bl</th>\n      <th>AV45.bl</th>\n      <th>Years.bl</th>\n      <th>Month.bl</th>\n      <th>Month</th>\n      <th>M</th>\n    </tr>\n  </thead>\n  <tbody>\n    <tr>\n      <th>0</th>\n      <td>2</td>\n      <td>bl</td>\n      <td>ADNI1</td>\n      <td>ADNI1</td>\n      <td>2005-09-08</td>\n      <td>CN</td>\n      <td>74.3</td>\n      <td>Male</td>\n      <td>16</td>\n      <td>Not Hisp/Latino</td>\n      <td>...</td>\n      <td>NaN</td>\n      <td>NaN</td>\n      <td>NaN</td>\n      <td>1.369264</td>\n      <td>NaN</td>\n      <td>NaN</td>\n      <td>0.000000</td>\n      <td>0.000000</td>\n      <td>0</td>\n      <td>0</td>\n    </tr>\n    <tr>\n      <th>1</th>\n      <td>2</td>\n      <td>m06</td>\n      <td>ADNI1</td>\n      <td>ADNI1</td>\n      <td>2006-03-06</td>\n      <td>CN</td>\n      <td>74.3</td>\n      <td>Male</td>\n      <td>16</td>\n      <td>Not Hisp/Latino</td>\n      <td>...</td>\n      <td>NaN</td>\n      <td>NaN</td>\n      <td>NaN</td>\n      <td>1.369264</td>\n      <td>NaN</td>\n      <td>NaN</td>\n      <td>0.490075</td>\n      <td>5.868852</td>\n      <td>6</td>\n      <td>6</td>\n    </tr>\n    <tr>\n      <th>2</th>\n      <td>2</td>\n      <td>m36</td>\n      <td>ADNI1</td>\n      <td>ADNI1</td>\n      <td>2008-08-27</td>\n      <td>CN</td>\n      <td>74.3</td>\n      <td>Male</td>\n      <td>16</td>\n      <td>Not Hisp/Latino</td>\n      <td>...</td>\n      <td>NaN</td>\n      <td>NaN</td>\n      <td>NaN</td>\n      <td>1.369264</td>\n      <td>NaN</td>\n      <td>NaN</td>\n      <td>2.967830</td>\n      <td>35.540984</td>\n      <td>36</td>\n      <td>36</td>\n    </tr>\n    <tr>\n      <th>3</th>\n      <td>2</td>\n      <td>m60</td>\n      <td>ADNIGO</td>\n      <td>ADNI1</td>\n      <td>2010-09-22</td>\n      <td>CN</td>\n      <td>74.3</td>\n      <td>Male</td>\n      <td>16</td>\n      <td>Not Hisp/Latino</td>\n      <td>...</td>\n      <td>NaN</td>\n      <td>NaN</td>\n      <td>NaN</td>\n      <td>1.369264</td>\n      <td>NaN</td>\n      <td>NaN</td>\n      <td>5.037645</td>\n      <td>60.327869</td>\n      <td>60</td>\n      <td>60</td>\n    </tr>\n    <tr>\n      <th>4</th>\n      <td>2</td>\n      <td>m66</td>\n      <td>ADNIGO</td>\n      <td>ADNI1</td>\n      <td>2011-03-04</td>\n      <td>CN</td>\n      <td>74.3</td>\n      <td>Male</td>\n      <td>16</td>\n      <td>Not Hisp/Latino</td>\n      <td>...</td>\n      <td>NaN</td>\n      <td>NaN</td>\n      <td>NaN</td>\n      <td>1.369264</td>\n      <td>NaN</td>\n      <td>NaN</td>\n      <td>5.483915</td>\n      <td>65.672131</td>\n      <td>66</td>\n      <td>66</td>\n    </tr>\n    <tr>\n      <th>...</th>\n      <td>...</td>\n      <td>...</td>\n      <td>...</td>\n      <td>...</td>\n      <td>...</td>\n      <td>...</td>\n      <td>...</td>\n      <td>...</td>\n      <td>...</td>\n      <td>...</td>\n      <td>...</td>\n      <td>...</td>\n      <td>...</td>\n      <td>...</td>\n      <td>...</td>\n      <td>...</td>\n      <td>...</td>\n      <td>...</td>\n      <td>...</td>\n      <td>...</td>\n      <td>...</td>\n    </tr>\n    <tr>\n      <th>12744</th>\n      <td>5295</td>\n      <td>bl</td>\n      <td>ADNI2</td>\n      <td>ADNI2</td>\n      <td>2013-12-11</td>\n      <td>SMC</td>\n      <td>75.5</td>\n      <td>Female</td>\n      <td>15</td>\n      <td>Not Hisp/Latino</td>\n      <td>...</td>\n      <td>416.8</td>\n      <td>8.53</td>\n      <td>88.69</td>\n      <td>1.163174</td>\n      <td>NaN</td>\n      <td>1.319026</td>\n      <td>0.000000</td>\n      <td>0.000000</td>\n      <td>0</td>\n      <td>0</td>\n    </tr>\n    <tr>\n      <th>12745</th>\n      <td>5295</td>\n      <td>m03</td>\n      <td>ADNI2</td>\n      <td>ADNI2</td>\n      <td>2014-02-14</td>\n      <td>SMC</td>\n      <td>75.5</td>\n      <td>Female</td>\n      <td>15</td>\n      <td>Not Hisp/Latino</td>\n      <td>...</td>\n      <td>416.8</td>\n      <td>8.53</td>\n      <td>88.69</td>\n      <td>1.163174</td>\n      <td>NaN</td>\n      <td>1.319026</td>\n      <td>0.177960</td>\n      <td>2.131148</td>\n      <td>3</td>\n      <td>3</td>\n    </tr>\n    <tr>\n      <th>12746</th>\n      <td>5295</td>\n      <td>m24</td>\n      <td>ADNI2</td>\n      <td>ADNI2</td>\n      <td>2015-12-08</td>\n      <td>SMC</td>\n      <td>75.5</td>\n      <td>Female</td>\n      <td>15</td>\n      <td>Not Hisp/Latino</td>\n      <td>...</td>\n      <td>416.8</td>\n      <td>8.53</td>\n      <td>88.69</td>\n      <td>1.163174</td>\n      <td>NaN</td>\n      <td>1.319026</td>\n      <td>1.990418</td>\n      <td>23.836066</td>\n      <td>24</td>\n      <td>24</td>\n    </tr>\n    <tr>\n      <th>12747</th>\n      <td>5296</td>\n      <td>bl</td>\n      <td>ADNI2</td>\n      <td>ADNI2</td>\n      <td>2013-12-18</td>\n      <td>SMC</td>\n      <td>69.3</td>\n      <td>Male</td>\n      <td>14</td>\n      <td>Not Hisp/Latino</td>\n      <td>...</td>\n      <td>1460</td>\n      <td>20.9</td>\n      <td>224.9</td>\n      <td>1.429264</td>\n      <td>NaN</td>\n      <td>1.138379</td>\n      <td>0.000000</td>\n      <td>0.000000</td>\n      <td>0</td>\n      <td>0</td>\n    </tr>\n    <tr>\n      <th>12748</th>\n      <td>5296</td>\n      <td>m24</td>\n      <td>ADNI2</td>\n      <td>ADNI2</td>\n      <td>2015-12-17</td>\n      <td>SMC</td>\n      <td>69.3</td>\n      <td>Male</td>\n      <td>14</td>\n      <td>Not Hisp/Latino</td>\n      <td>...</td>\n      <td>1460</td>\n      <td>20.9</td>\n      <td>224.9</td>\n      <td>1.429264</td>\n      <td>NaN</td>\n      <td>1.138379</td>\n      <td>1.995893</td>\n      <td>23.901639</td>\n      <td>24</td>\n      <td>24</td>\n    </tr>\n  </tbody>\n</table>\n<p>12749 rows × 99 columns</p>\n</div>"
     },
     "metadata": {},
     "execution_count": 57
    }
   ],
   "source": [
    "#### Read databases\n",
    "qt_pad = pd.read_csv(\"~/mah546/default/datasets/ADNI/Test_Data/Data_for_Challenges/ADNI_QT-PAD/ADNI_adnimerge_20170629_QT-freeze.csv\")\n",
    "qt_pad"
   ]
  },
  {
   "cell_type": "code",
   "execution_count": 58,
   "metadata": {},
   "outputs": [
    {
     "output_type": "stream",
     "name": "stdout",
     "text": [
      "There are 12749 rows\nAfter keeping only baseline, there are 1737 rows\nAfter removing those with missing phenotypes, there are 1400 rows\n"
     ]
    }
   ],
   "source": [
    "print('There are ' + str(len(qt_pad)) + ' rows')\n",
    "\n",
    "#### Keep only baseline\n",
    "qt_pad = qt_pad.loc[qt_pad[\"VISCODE\"] == \"bl\"]\n",
    "print('After keeping only baseline, there are ' + str(len(qt_pad)) + ' rows')\n",
    "\n",
    "#### Remove those with at least one phenotype missing \n",
    "remove = pd.DataFrame( {'Hippocampus': pd.isnull(qt_pad['Hippocampus']), 'Entorhinal': pd.isnull(qt_pad['Entorhinal']), 'Fusiform': pd.isnull(qt_pad['Fusiform']) } ).any(axis=1)\n",
    "qt_pad = qt_pad.loc[~remove]\n",
    "print('After removing those with missing phenotypes, there are ' + str(len(qt_pad)) + ' rows')\n",
    "\n"
   ]
  },
  {
   "cell_type": "code",
   "execution_count": 82,
   "metadata": {},
   "outputs": [
    {
     "output_type": "execute_result",
     "data": {
      "text/plain": [
       "       EcogPtDivatt.bl  EcogPtTotal.bl  EcogSPMem.bl  EcogSPLang.bl  \\\n",
       "0                  NaN             NaN           NaN            NaN   \n",
       "15                 NaN             NaN           NaN            NaN   \n",
       "20                 NaN             NaN           NaN            NaN   \n",
       "26                 NaN             NaN           NaN            NaN   \n",
       "33                 NaN             NaN           NaN            NaN   \n",
       "...                ...             ...           ...            ...   \n",
       "12733             2.50        2.026316         1.000       1.000000   \n",
       "12736             1.50        1.410256         1.250       1.222222   \n",
       "12739             1.00        1.128205         1.625       1.375000   \n",
       "12742             1.75        1.538462         1.000       1.000000   \n",
       "12747             1.75        1.743590         2.000       1.444444   \n",
       "\n",
       "       EcogSPVisspat.bl  EcogSPPlan.bl  EcogSPOrgan.bl  EcogSPDivatt.bl  \\\n",
       "0                   NaN            NaN             NaN              NaN   \n",
       "15                  NaN            NaN             NaN              NaN   \n",
       "20                  NaN            NaN             NaN              NaN   \n",
       "26                  NaN            NaN             NaN              NaN   \n",
       "33                  NaN            NaN             NaN              NaN   \n",
       "...                 ...            ...             ...              ...   \n",
       "12733          1.000000            1.0        1.000000             1.00   \n",
       "12736          1.000000            1.4        1.166667             1.50   \n",
       "12739          1.000000            1.4        1.000000             1.25   \n",
       "12742          1.000000            1.0        1.000000             1.00   \n",
       "12747          1.142857            1.0        1.333333             1.75   \n",
       "\n",
       "       EcogSPTotal.bl ABETA.bl  \n",
       "0                 NaN      NaN  \n",
       "15                NaN    741.5  \n",
       "20                NaN     1501  \n",
       "26                NaN    547.3  \n",
       "33                NaN      NaN  \n",
       "...               ...      ...  \n",
       "12733        1.000000     1665  \n",
       "12736        1.230769    899.4  \n",
       "12739        1.289474    928.3  \n",
       "12742        1.000000      NaN  \n",
       "12747        1.461538     1460  \n",
       "\n",
       "[1400 rows x 10 columns]"
      ],
      "text/html": "<div>\n<style scoped>\n    .dataframe tbody tr th:only-of-type {\n        vertical-align: middle;\n    }\n\n    .dataframe tbody tr th {\n        vertical-align: top;\n    }\n\n    .dataframe thead th {\n        text-align: right;\n    }\n</style>\n<table border=\"1\" class=\"dataframe\">\n  <thead>\n    <tr style=\"text-align: right;\">\n      <th></th>\n      <th>EcogPtDivatt.bl</th>\n      <th>EcogPtTotal.bl</th>\n      <th>EcogSPMem.bl</th>\n      <th>EcogSPLang.bl</th>\n      <th>EcogSPVisspat.bl</th>\n      <th>EcogSPPlan.bl</th>\n      <th>EcogSPOrgan.bl</th>\n      <th>EcogSPDivatt.bl</th>\n      <th>EcogSPTotal.bl</th>\n      <th>ABETA.bl</th>\n    </tr>\n  </thead>\n  <tbody>\n    <tr>\n      <th>0</th>\n      <td>NaN</td>\n      <td>NaN</td>\n      <td>NaN</td>\n      <td>NaN</td>\n      <td>NaN</td>\n      <td>NaN</td>\n      <td>NaN</td>\n      <td>NaN</td>\n      <td>NaN</td>\n      <td>NaN</td>\n    </tr>\n    <tr>\n      <th>15</th>\n      <td>NaN</td>\n      <td>NaN</td>\n      <td>NaN</td>\n      <td>NaN</td>\n      <td>NaN</td>\n      <td>NaN</td>\n      <td>NaN</td>\n      <td>NaN</td>\n      <td>NaN</td>\n      <td>741.5</td>\n    </tr>\n    <tr>\n      <th>20</th>\n      <td>NaN</td>\n      <td>NaN</td>\n      <td>NaN</td>\n      <td>NaN</td>\n      <td>NaN</td>\n      <td>NaN</td>\n      <td>NaN</td>\n      <td>NaN</td>\n      <td>NaN</td>\n      <td>1501</td>\n    </tr>\n    <tr>\n      <th>26</th>\n      <td>NaN</td>\n      <td>NaN</td>\n      <td>NaN</td>\n      <td>NaN</td>\n      <td>NaN</td>\n      <td>NaN</td>\n      <td>NaN</td>\n      <td>NaN</td>\n      <td>NaN</td>\n      <td>547.3</td>\n    </tr>\n    <tr>\n      <th>33</th>\n      <td>NaN</td>\n      <td>NaN</td>\n      <td>NaN</td>\n      <td>NaN</td>\n      <td>NaN</td>\n      <td>NaN</td>\n      <td>NaN</td>\n      <td>NaN</td>\n      <td>NaN</td>\n      <td>NaN</td>\n    </tr>\n    <tr>\n      <th>...</th>\n      <td>...</td>\n      <td>...</td>\n      <td>...</td>\n      <td>...</td>\n      <td>...</td>\n      <td>...</td>\n      <td>...</td>\n      <td>...</td>\n      <td>...</td>\n      <td>...</td>\n    </tr>\n    <tr>\n      <th>12733</th>\n      <td>2.50</td>\n      <td>2.026316</td>\n      <td>1.000</td>\n      <td>1.000000</td>\n      <td>1.000000</td>\n      <td>1.0</td>\n      <td>1.000000</td>\n      <td>1.00</td>\n      <td>1.000000</td>\n      <td>1665</td>\n    </tr>\n    <tr>\n      <th>12736</th>\n      <td>1.50</td>\n      <td>1.410256</td>\n      <td>1.250</td>\n      <td>1.222222</td>\n      <td>1.000000</td>\n      <td>1.4</td>\n      <td>1.166667</td>\n      <td>1.50</td>\n      <td>1.230769</td>\n      <td>899.4</td>\n    </tr>\n    <tr>\n      <th>12739</th>\n      <td>1.00</td>\n      <td>1.128205</td>\n      <td>1.625</td>\n      <td>1.375000</td>\n      <td>1.000000</td>\n      <td>1.4</td>\n      <td>1.000000</td>\n      <td>1.25</td>\n      <td>1.289474</td>\n      <td>928.3</td>\n    </tr>\n    <tr>\n      <th>12742</th>\n      <td>1.75</td>\n      <td>1.538462</td>\n      <td>1.000</td>\n      <td>1.000000</td>\n      <td>1.000000</td>\n      <td>1.0</td>\n      <td>1.000000</td>\n      <td>1.00</td>\n      <td>1.000000</td>\n      <td>NaN</td>\n    </tr>\n    <tr>\n      <th>12747</th>\n      <td>1.75</td>\n      <td>1.743590</td>\n      <td>2.000</td>\n      <td>1.444444</td>\n      <td>1.142857</td>\n      <td>1.0</td>\n      <td>1.333333</td>\n      <td>1.75</td>\n      <td>1.461538</td>\n      <td>1460</td>\n    </tr>\n  </tbody>\n</table>\n<p>1400 rows × 10 columns</p>\n</div>"
     },
     "metadata": {},
     "execution_count": 82
    }
   ],
   "source": [
    "qt_pad.iloc[:,80:90]"
   ]
  },
  {
   "cell_type": "code",
   "execution_count": 83,
   "metadata": {},
   "outputs": [
    {
     "output_type": "execute_result",
     "data": {
      "text/plain": [
       "                RID  VISCODE  COLPROT  ORIGPROT  EXAMDATE  AGE  PTEDUCAT  \\\n",
       "PTGENDER DX.bl                                                             \n",
       "Female   AD     114      114      114       114       114  114       114   \n",
       "         CN     180      180      180       180       180  180       180   \n",
       "         EMCI   118      118      118       118       118  118       118   \n",
       "         LMCI   175      175      175       175       175  175       175   \n",
       "         SMC     52       52       52        52        52   52        52   \n",
       "Male     AD     135      135      135       135       135  135       135   \n",
       "         CN     184      184      184       184       184  184       184   \n",
       "         EMCI   140      140      140       140       140  140       140   \n",
       "         LMCI   268      268      268       268       268  268       268   \n",
       "         SMC     34       34       34        34        34   34        34   \n",
       "\n",
       "                PTETHCAT  PTRACCAT  PTMARRY  ...  ABETA.bl  PTAU.bl  TAU.bl  \\\n",
       "PTGENDER DX.bl                               ...                              \n",
       "Female   AD          114       114      114  ...        74       74      74   \n",
       "         CN          180       180      180  ...       118      118     118   \n",
       "         EMCI        118       118      118  ...       101      101     101   \n",
       "         LMCI        175       175      175  ...       105      105     105   \n",
       "         SMC          52        52       52  ...        46       46      46   \n",
       "Male     AD          135       135      135  ...        92       92      92   \n",
       "         CN          184       184      184  ...       117      117     117   \n",
       "         EMCI        140       140      140  ...       128      128     128   \n",
       "         LMCI        268       268      268  ...       161      161     161   \n",
       "         SMC          34        34       34  ...        32       32      32   \n",
       "\n",
       "                FDG.bl  PIB.bl  AV45.bl  Years.bl  Month.bl  Month    M  \n",
       "PTGENDER DX.bl                                                           \n",
       "Female   AD         78       1       47       114       114    114  114  \n",
       "         CN        118       0       80       180       180    180  180  \n",
       "         EMCI      114       0      113       118       118    118  118  \n",
       "         LMCI      110       6       57       175       175    175  175  \n",
       "         SMC        51       0       51        52        52     52   52  \n",
       "Male     AD        102       1       58       135       135    135  135  \n",
       "         CN        132       0       76       184       184    184  184  \n",
       "         EMCI      139       0      139       140       140    140  140  \n",
       "         LMCI      177       8       64       268       268    268  268  \n",
       "         SMC        34       0       32        34        34     34   34  \n",
       "\n",
       "[10 rows x 97 columns]"
      ],
      "text/html": "<div>\n<style scoped>\n    .dataframe tbody tr th:only-of-type {\n        vertical-align: middle;\n    }\n\n    .dataframe tbody tr th {\n        vertical-align: top;\n    }\n\n    .dataframe thead th {\n        text-align: right;\n    }\n</style>\n<table border=\"1\" class=\"dataframe\">\n  <thead>\n    <tr style=\"text-align: right;\">\n      <th></th>\n      <th></th>\n      <th>RID</th>\n      <th>VISCODE</th>\n      <th>COLPROT</th>\n      <th>ORIGPROT</th>\n      <th>EXAMDATE</th>\n      <th>AGE</th>\n      <th>PTEDUCAT</th>\n      <th>PTETHCAT</th>\n      <th>PTRACCAT</th>\n      <th>PTMARRY</th>\n      <th>...</th>\n      <th>ABETA.bl</th>\n      <th>PTAU.bl</th>\n      <th>TAU.bl</th>\n      <th>FDG.bl</th>\n      <th>PIB.bl</th>\n      <th>AV45.bl</th>\n      <th>Years.bl</th>\n      <th>Month.bl</th>\n      <th>Month</th>\n      <th>M</th>\n    </tr>\n    <tr>\n      <th>PTGENDER</th>\n      <th>DX.bl</th>\n      <th></th>\n      <th></th>\n      <th></th>\n      <th></th>\n      <th></th>\n      <th></th>\n      <th></th>\n      <th></th>\n      <th></th>\n      <th></th>\n      <th></th>\n      <th></th>\n      <th></th>\n      <th></th>\n      <th></th>\n      <th></th>\n      <th></th>\n      <th></th>\n      <th></th>\n      <th></th>\n      <th></th>\n    </tr>\n  </thead>\n  <tbody>\n    <tr>\n      <th rowspan=\"5\" valign=\"top\">Female</th>\n      <th>AD</th>\n      <td>114</td>\n      <td>114</td>\n      <td>114</td>\n      <td>114</td>\n      <td>114</td>\n      <td>114</td>\n      <td>114</td>\n      <td>114</td>\n      <td>114</td>\n      <td>114</td>\n      <td>...</td>\n      <td>74</td>\n      <td>74</td>\n      <td>74</td>\n      <td>78</td>\n      <td>1</td>\n      <td>47</td>\n      <td>114</td>\n      <td>114</td>\n      <td>114</td>\n      <td>114</td>\n    </tr>\n    <tr>\n      <th>CN</th>\n      <td>180</td>\n      <td>180</td>\n      <td>180</td>\n      <td>180</td>\n      <td>180</td>\n      <td>180</td>\n      <td>180</td>\n      <td>180</td>\n      <td>180</td>\n      <td>180</td>\n      <td>...</td>\n      <td>118</td>\n      <td>118</td>\n      <td>118</td>\n      <td>118</td>\n      <td>0</td>\n      <td>80</td>\n      <td>180</td>\n      <td>180</td>\n      <td>180</td>\n      <td>180</td>\n    </tr>\n    <tr>\n      <th>EMCI</th>\n      <td>118</td>\n      <td>118</td>\n      <td>118</td>\n      <td>118</td>\n      <td>118</td>\n      <td>118</td>\n      <td>118</td>\n      <td>118</td>\n      <td>118</td>\n      <td>118</td>\n      <td>...</td>\n      <td>101</td>\n      <td>101</td>\n      <td>101</td>\n      <td>114</td>\n      <td>0</td>\n      <td>113</td>\n      <td>118</td>\n      <td>118</td>\n      <td>118</td>\n      <td>118</td>\n    </tr>\n    <tr>\n      <th>LMCI</th>\n      <td>175</td>\n      <td>175</td>\n      <td>175</td>\n      <td>175</td>\n      <td>175</td>\n      <td>175</td>\n      <td>175</td>\n      <td>175</td>\n      <td>175</td>\n      <td>175</td>\n      <td>...</td>\n      <td>105</td>\n      <td>105</td>\n      <td>105</td>\n      <td>110</td>\n      <td>6</td>\n      <td>57</td>\n      <td>175</td>\n      <td>175</td>\n      <td>175</td>\n      <td>175</td>\n    </tr>\n    <tr>\n      <th>SMC</th>\n      <td>52</td>\n      <td>52</td>\n      <td>52</td>\n      <td>52</td>\n      <td>52</td>\n      <td>52</td>\n      <td>52</td>\n      <td>52</td>\n      <td>52</td>\n      <td>52</td>\n      <td>...</td>\n      <td>46</td>\n      <td>46</td>\n      <td>46</td>\n      <td>51</td>\n      <td>0</td>\n      <td>51</td>\n      <td>52</td>\n      <td>52</td>\n      <td>52</td>\n      <td>52</td>\n    </tr>\n    <tr>\n      <th rowspan=\"5\" valign=\"top\">Male</th>\n      <th>AD</th>\n      <td>135</td>\n      <td>135</td>\n      <td>135</td>\n      <td>135</td>\n      <td>135</td>\n      <td>135</td>\n      <td>135</td>\n      <td>135</td>\n      <td>135</td>\n      <td>135</td>\n      <td>...</td>\n      <td>92</td>\n      <td>92</td>\n      <td>92</td>\n      <td>102</td>\n      <td>1</td>\n      <td>58</td>\n      <td>135</td>\n      <td>135</td>\n      <td>135</td>\n      <td>135</td>\n    </tr>\n    <tr>\n      <th>CN</th>\n      <td>184</td>\n      <td>184</td>\n      <td>184</td>\n      <td>184</td>\n      <td>184</td>\n      <td>184</td>\n      <td>184</td>\n      <td>184</td>\n      <td>184</td>\n      <td>184</td>\n      <td>...</td>\n      <td>117</td>\n      <td>117</td>\n      <td>117</td>\n      <td>132</td>\n      <td>0</td>\n      <td>76</td>\n      <td>184</td>\n      <td>184</td>\n      <td>184</td>\n      <td>184</td>\n    </tr>\n    <tr>\n      <th>EMCI</th>\n      <td>140</td>\n      <td>140</td>\n      <td>140</td>\n      <td>140</td>\n      <td>140</td>\n      <td>140</td>\n      <td>140</td>\n      <td>140</td>\n      <td>140</td>\n      <td>140</td>\n      <td>...</td>\n      <td>128</td>\n      <td>128</td>\n      <td>128</td>\n      <td>139</td>\n      <td>0</td>\n      <td>139</td>\n      <td>140</td>\n      <td>140</td>\n      <td>140</td>\n      <td>140</td>\n    </tr>\n    <tr>\n      <th>LMCI</th>\n      <td>268</td>\n      <td>268</td>\n      <td>268</td>\n      <td>268</td>\n      <td>268</td>\n      <td>268</td>\n      <td>268</td>\n      <td>268</td>\n      <td>268</td>\n      <td>268</td>\n      <td>...</td>\n      <td>161</td>\n      <td>161</td>\n      <td>161</td>\n      <td>177</td>\n      <td>8</td>\n      <td>64</td>\n      <td>268</td>\n      <td>268</td>\n      <td>268</td>\n      <td>268</td>\n    </tr>\n    <tr>\n      <th>SMC</th>\n      <td>34</td>\n      <td>34</td>\n      <td>34</td>\n      <td>34</td>\n      <td>34</td>\n      <td>34</td>\n      <td>34</td>\n      <td>34</td>\n      <td>34</td>\n      <td>34</td>\n      <td>...</td>\n      <td>32</td>\n      <td>32</td>\n      <td>32</td>\n      <td>34</td>\n      <td>0</td>\n      <td>32</td>\n      <td>34</td>\n      <td>34</td>\n      <td>34</td>\n      <td>34</td>\n    </tr>\n  </tbody>\n</table>\n<p>10 rows × 97 columns</p>\n</div>"
     },
     "metadata": {},
     "execution_count": 83
    }
   ],
   "source": [
    "qt_pad.groupby([\"PTGENDER\", \"DX.bl\"]).count()\n",
    "#qt_pad.groupby([\"PTGENDER\"]).count()"
   ]
  },
  {
   "cell_type": "code",
   "execution_count": null,
   "metadata": {},
   "outputs": [],
   "source": []
  }
 ]
}