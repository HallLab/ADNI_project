{
 "metadata": {
  "language_info": {
   "codemirror_mode": {
    "name": "ipython",
    "version": 3
   },
   "file_extension": ".py",
   "mimetype": "text/x-python",
   "name": "python",
   "nbconvert_exporter": "python",
   "pygments_lexer": "ipython3",
   "version": "3.9.4"
  },
  "orig_nbformat": 2,
  "kernelspec": {
   "name": "python394jvsc74a57bd04264206bc710cd40cc621d04235a2f5b479d4a96e2a9431f438adbe860f78c93",
   "display_name": "Python 3.9.4 64-bit ('adni_project': conda)"
  },
  "metadata": {
   "interpreter": {
    "hash": "4264206bc710cd40cc621d04235a2f5b479d4a96e2a9431f438adbe860f78c93"
   }
  }
 },
 "nbformat": 4,
 "nbformat_minor": 2,
 "cells": [
  {
   "source": [
    "# Basic samples count\n",
    "\n",
    "This is an initial pipeline to retrieve the IDs that have all phenotype and covariate data, and select those from the metabolomics data"
   ],
   "cell_type": "markdown",
   "metadata": {}
  },
  {
   "cell_type": "code",
   "execution_count": 1,
   "metadata": {},
   "outputs": [],
   "source": [
    "#### Import libraries\n",
    "import pandas as pd\n",
    "import numpy as np"
   ]
  },
  {
   "cell_type": "code",
   "execution_count": 2,
   "metadata": {},
   "outputs": [
    {
     "output_type": "stream",
     "name": "stderr",
     "text": [
      "/storage/home/tug156/work/software/anaconda3/envs/adni_project/lib/python3.9/site-packages/IPython/core/interactiveshell.py:3169: DtypeWarning: Columns (20,90,91) have mixed types.Specify dtype option on import or set low_memory=False.\n  has_raised = await self.run_ast_nodes(code_ast.body, cell_name,\n"
     ]
    },
    {
     "output_type": "execute_result",
     "data": {
      "text/plain": [
       "        RID VISCODE COLPROT ORIGPROT    EXAMDATE DX.bl   AGE PTGENDER  \\\n",
       "0         2      bl   ADNI1    ADNI1  2005-09-08    CN  74.3     Male   \n",
       "1         2     m06   ADNI1    ADNI1  2006-03-06    CN  74.3     Male   \n",
       "2         2     m36   ADNI1    ADNI1  2008-08-27    CN  74.3     Male   \n",
       "3         2     m60  ADNIGO    ADNI1  2010-09-22    CN  74.3     Male   \n",
       "4         2     m66  ADNIGO    ADNI1  2011-03-04    CN  74.3     Male   \n",
       "...     ...     ...     ...      ...         ...   ...   ...      ...   \n",
       "12744  5295      bl   ADNI2    ADNI2  2013-12-11   SMC  75.5   Female   \n",
       "12745  5295     m03   ADNI2    ADNI2  2014-02-14   SMC  75.5   Female   \n",
       "12746  5295     m24   ADNI2    ADNI2  2015-12-08   SMC  75.5   Female   \n",
       "12747  5296      bl   ADNI2    ADNI2  2013-12-18   SMC  69.3     Male   \n",
       "12748  5296     m24   ADNI2    ADNI2  2015-12-17   SMC  69.3     Male   \n",
       "\n",
       "       PTEDUCAT         PTETHCAT  ... ABETA.bl PTAU.bl TAU.bl    FDG.bl  \\\n",
       "0            16  Not Hisp/Latino  ...      NaN     NaN    NaN  1.369264   \n",
       "1            16  Not Hisp/Latino  ...      NaN     NaN    NaN  1.369264   \n",
       "2            16  Not Hisp/Latino  ...      NaN     NaN    NaN  1.369264   \n",
       "3            16  Not Hisp/Latino  ...      NaN     NaN    NaN  1.369264   \n",
       "4            16  Not Hisp/Latino  ...      NaN     NaN    NaN  1.369264   \n",
       "...         ...              ...  ...      ...     ...    ...       ...   \n",
       "12744        15  Not Hisp/Latino  ...    416.8    8.53  88.69  1.163174   \n",
       "12745        15  Not Hisp/Latino  ...    416.8    8.53  88.69  1.163174   \n",
       "12746        15  Not Hisp/Latino  ...    416.8    8.53  88.69  1.163174   \n",
       "12747        14  Not Hisp/Latino  ...     1460    20.9  224.9  1.429264   \n",
       "12748        14  Not Hisp/Latino  ...     1460    20.9  224.9  1.429264   \n",
       "\n",
       "       PIB.bl   AV45.bl  Years.bl   Month.bl Month   M  \n",
       "0         NaN       NaN  0.000000   0.000000     0   0  \n",
       "1         NaN       NaN  0.490075   5.868852     6   6  \n",
       "2         NaN       NaN  2.967830  35.540984    36  36  \n",
       "3         NaN       NaN  5.037645  60.327869    60  60  \n",
       "4         NaN       NaN  5.483915  65.672131    66  66  \n",
       "...       ...       ...       ...        ...   ...  ..  \n",
       "12744     NaN  1.319026  0.000000   0.000000     0   0  \n",
       "12745     NaN  1.319026  0.177960   2.131148     3   3  \n",
       "12746     NaN  1.319026  1.990418  23.836066    24  24  \n",
       "12747     NaN  1.138379  0.000000   0.000000     0   0  \n",
       "12748     NaN  1.138379  1.995893  23.901639    24  24  \n",
       "\n",
       "[12749 rows x 99 columns]"
      ],
      "text/html": "<div>\n<style scoped>\n    .dataframe tbody tr th:only-of-type {\n        vertical-align: middle;\n    }\n\n    .dataframe tbody tr th {\n        vertical-align: top;\n    }\n\n    .dataframe thead th {\n        text-align: right;\n    }\n</style>\n<table border=\"1\" class=\"dataframe\">\n  <thead>\n    <tr style=\"text-align: right;\">\n      <th></th>\n      <th>RID</th>\n      <th>VISCODE</th>\n      <th>COLPROT</th>\n      <th>ORIGPROT</th>\n      <th>EXAMDATE</th>\n      <th>DX.bl</th>\n      <th>AGE</th>\n      <th>PTGENDER</th>\n      <th>PTEDUCAT</th>\n      <th>PTETHCAT</th>\n      <th>...</th>\n      <th>ABETA.bl</th>\n      <th>PTAU.bl</th>\n      <th>TAU.bl</th>\n      <th>FDG.bl</th>\n      <th>PIB.bl</th>\n      <th>AV45.bl</th>\n      <th>Years.bl</th>\n      <th>Month.bl</th>\n      <th>Month</th>\n      <th>M</th>\n    </tr>\n  </thead>\n  <tbody>\n    <tr>\n      <th>0</th>\n      <td>2</td>\n      <td>bl</td>\n      <td>ADNI1</td>\n      <td>ADNI1</td>\n      <td>2005-09-08</td>\n      <td>CN</td>\n      <td>74.3</td>\n      <td>Male</td>\n      <td>16</td>\n      <td>Not Hisp/Latino</td>\n      <td>...</td>\n      <td>NaN</td>\n      <td>NaN</td>\n      <td>NaN</td>\n      <td>1.369264</td>\n      <td>NaN</td>\n      <td>NaN</td>\n      <td>0.000000</td>\n      <td>0.000000</td>\n      <td>0</td>\n      <td>0</td>\n    </tr>\n    <tr>\n      <th>1</th>\n      <td>2</td>\n      <td>m06</td>\n      <td>ADNI1</td>\n      <td>ADNI1</td>\n      <td>2006-03-06</td>\n      <td>CN</td>\n      <td>74.3</td>\n      <td>Male</td>\n      <td>16</td>\n      <td>Not Hisp/Latino</td>\n      <td>...</td>\n      <td>NaN</td>\n      <td>NaN</td>\n      <td>NaN</td>\n      <td>1.369264</td>\n      <td>NaN</td>\n      <td>NaN</td>\n      <td>0.490075</td>\n      <td>5.868852</td>\n      <td>6</td>\n      <td>6</td>\n    </tr>\n    <tr>\n      <th>2</th>\n      <td>2</td>\n      <td>m36</td>\n      <td>ADNI1</td>\n      <td>ADNI1</td>\n      <td>2008-08-27</td>\n      <td>CN</td>\n      <td>74.3</td>\n      <td>Male</td>\n      <td>16</td>\n      <td>Not Hisp/Latino</td>\n      <td>...</td>\n      <td>NaN</td>\n      <td>NaN</td>\n      <td>NaN</td>\n      <td>1.369264</td>\n      <td>NaN</td>\n      <td>NaN</td>\n      <td>2.967830</td>\n      <td>35.540984</td>\n      <td>36</td>\n      <td>36</td>\n    </tr>\n    <tr>\n      <th>3</th>\n      <td>2</td>\n      <td>m60</td>\n      <td>ADNIGO</td>\n      <td>ADNI1</td>\n      <td>2010-09-22</td>\n      <td>CN</td>\n      <td>74.3</td>\n      <td>Male</td>\n      <td>16</td>\n      <td>Not Hisp/Latino</td>\n      <td>...</td>\n      <td>NaN</td>\n      <td>NaN</td>\n      <td>NaN</td>\n      <td>1.369264</td>\n      <td>NaN</td>\n      <td>NaN</td>\n      <td>5.037645</td>\n      <td>60.327869</td>\n      <td>60</td>\n      <td>60</td>\n    </tr>\n    <tr>\n      <th>4</th>\n      <td>2</td>\n      <td>m66</td>\n      <td>ADNIGO</td>\n      <td>ADNI1</td>\n      <td>2011-03-04</td>\n      <td>CN</td>\n      <td>74.3</td>\n      <td>Male</td>\n      <td>16</td>\n      <td>Not Hisp/Latino</td>\n      <td>...</td>\n      <td>NaN</td>\n      <td>NaN</td>\n      <td>NaN</td>\n      <td>1.369264</td>\n      <td>NaN</td>\n      <td>NaN</td>\n      <td>5.483915</td>\n      <td>65.672131</td>\n      <td>66</td>\n      <td>66</td>\n    </tr>\n    <tr>\n      <th>...</th>\n      <td>...</td>\n      <td>...</td>\n      <td>...</td>\n      <td>...</td>\n      <td>...</td>\n      <td>...</td>\n      <td>...</td>\n      <td>...</td>\n      <td>...</td>\n      <td>...</td>\n      <td>...</td>\n      <td>...</td>\n      <td>...</td>\n      <td>...</td>\n      <td>...</td>\n      <td>...</td>\n      <td>...</td>\n      <td>...</td>\n      <td>...</td>\n      <td>...</td>\n      <td>...</td>\n    </tr>\n    <tr>\n      <th>12744</th>\n      <td>5295</td>\n      <td>bl</td>\n      <td>ADNI2</td>\n      <td>ADNI2</td>\n      <td>2013-12-11</td>\n      <td>SMC</td>\n      <td>75.5</td>\n      <td>Female</td>\n      <td>15</td>\n      <td>Not Hisp/Latino</td>\n      <td>...</td>\n      <td>416.8</td>\n      <td>8.53</td>\n      <td>88.69</td>\n      <td>1.163174</td>\n      <td>NaN</td>\n      <td>1.319026</td>\n      <td>0.000000</td>\n      <td>0.000000</td>\n      <td>0</td>\n      <td>0</td>\n    </tr>\n    <tr>\n      <th>12745</th>\n      <td>5295</td>\n      <td>m03</td>\n      <td>ADNI2</td>\n      <td>ADNI2</td>\n      <td>2014-02-14</td>\n      <td>SMC</td>\n      <td>75.5</td>\n      <td>Female</td>\n      <td>15</td>\n      <td>Not Hisp/Latino</td>\n      <td>...</td>\n      <td>416.8</td>\n      <td>8.53</td>\n      <td>88.69</td>\n      <td>1.163174</td>\n      <td>NaN</td>\n      <td>1.319026</td>\n      <td>0.177960</td>\n      <td>2.131148</td>\n      <td>3</td>\n      <td>3</td>\n    </tr>\n    <tr>\n      <th>12746</th>\n      <td>5295</td>\n      <td>m24</td>\n      <td>ADNI2</td>\n      <td>ADNI2</td>\n      <td>2015-12-08</td>\n      <td>SMC</td>\n      <td>75.5</td>\n      <td>Female</td>\n      <td>15</td>\n      <td>Not Hisp/Latino</td>\n      <td>...</td>\n      <td>416.8</td>\n      <td>8.53</td>\n      <td>88.69</td>\n      <td>1.163174</td>\n      <td>NaN</td>\n      <td>1.319026</td>\n      <td>1.990418</td>\n      <td>23.836066</td>\n      <td>24</td>\n      <td>24</td>\n    </tr>\n    <tr>\n      <th>12747</th>\n      <td>5296</td>\n      <td>bl</td>\n      <td>ADNI2</td>\n      <td>ADNI2</td>\n      <td>2013-12-18</td>\n      <td>SMC</td>\n      <td>69.3</td>\n      <td>Male</td>\n      <td>14</td>\n      <td>Not Hisp/Latino</td>\n      <td>...</td>\n      <td>1460</td>\n      <td>20.9</td>\n      <td>224.9</td>\n      <td>1.429264</td>\n      <td>NaN</td>\n      <td>1.138379</td>\n      <td>0.000000</td>\n      <td>0.000000</td>\n      <td>0</td>\n      <td>0</td>\n    </tr>\n    <tr>\n      <th>12748</th>\n      <td>5296</td>\n      <td>m24</td>\n      <td>ADNI2</td>\n      <td>ADNI2</td>\n      <td>2015-12-17</td>\n      <td>SMC</td>\n      <td>69.3</td>\n      <td>Male</td>\n      <td>14</td>\n      <td>Not Hisp/Latino</td>\n      <td>...</td>\n      <td>1460</td>\n      <td>20.9</td>\n      <td>224.9</td>\n      <td>1.429264</td>\n      <td>NaN</td>\n      <td>1.138379</td>\n      <td>1.995893</td>\n      <td>23.901639</td>\n      <td>24</td>\n      <td>24</td>\n    </tr>\n  </tbody>\n</table>\n<p>12749 rows × 99 columns</p>\n</div>"
     },
     "metadata": {},
     "execution_count": 2
    }
   ],
   "source": [
    "#### Read databases\n",
    "qt_pad = pd.read_csv('~/mah546/default/datasets/ADNI/Test_Data/Data_for_Challenges/ADNI_QT-PAD/ADNI_adnimerge_20170629_QT-freeze.csv')\n",
    "qt_pad"
   ]
  },
  {
   "cell_type": "code",
   "execution_count": 3,
   "metadata": {},
   "outputs": [
    {
     "output_type": "stream",
     "name": "stdout",
     "text": [
      "Initially, there are 12749 rows\nAfter keeping only baseline, there are 1737 rows\nAfter removing those with missing phenotypes, there are 1393 rows\n"
     ]
    }
   ],
   "source": [
    "print('Initially, there are ' + str(len(qt_pad)) + ' rows')\n",
    "\n",
    "#### Keep only baseline\n",
    "qt_pad = qt_pad.loc[qt_pad['VISCODE'] == 'bl']\n",
    "print('After keeping only baseline, there are ' + str(len(qt_pad)) + ' rows')\n",
    "\n",
    "#### Remove those with at least one phenotype missing or covariate (only selecting APOE because it's the only one with extra missing data)\n",
    "remove = pd.DataFrame( {'Hippocampus': pd.isnull(qt_pad['Hippocampus']), 'Entorhinal': pd.isnull(qt_pad['Entorhinal']), 'Fusiform': pd.isnull(qt_pad['Fusiform']), 'APOE4' : pd.isnull(qt_pad['APOE4'])} ).any(axis=1)\n",
    "qt_pad = qt_pad.loc[~remove]\n",
    "print('After removing those with missing phenotypes, there are ' + str(len(qt_pad)) + ' rows')\n",
    "\n"
   ]
  },
  {
   "cell_type": "code",
   "execution_count": 4,
   "metadata": {},
   "outputs": [
    {
     "output_type": "execute_result",
     "data": {
      "text/plain": [
       "                RID  AGE  PTEDUCAT  APOE4\n",
       "PTGENDER DX.bl                           \n",
       "Female   AD     113  113       113    113\n",
       "         CN     179  179       179    179\n",
       "         EMCI   115  115       115    115\n",
       "         LMCI   175  175       175    175\n",
       "         SMC     52   52        52     52\n",
       "Male     AD     134  134       134    134\n",
       "         CN     184  184       184    184\n",
       "         EMCI   139  139       139    139\n",
       "         LMCI   268  268       268    268\n",
       "         SMC     34   34        34     34"
      ],
      "text/html": "<div>\n<style scoped>\n    .dataframe tbody tr th:only-of-type {\n        vertical-align: middle;\n    }\n\n    .dataframe tbody tr th {\n        vertical-align: top;\n    }\n\n    .dataframe thead th {\n        text-align: right;\n    }\n</style>\n<table border=\"1\" class=\"dataframe\">\n  <thead>\n    <tr style=\"text-align: right;\">\n      <th></th>\n      <th></th>\n      <th>RID</th>\n      <th>AGE</th>\n      <th>PTEDUCAT</th>\n      <th>APOE4</th>\n    </tr>\n    <tr>\n      <th>PTGENDER</th>\n      <th>DX.bl</th>\n      <th></th>\n      <th></th>\n      <th></th>\n      <th></th>\n    </tr>\n  </thead>\n  <tbody>\n    <tr>\n      <th rowspan=\"5\" valign=\"top\">Female</th>\n      <th>AD</th>\n      <td>113</td>\n      <td>113</td>\n      <td>113</td>\n      <td>113</td>\n    </tr>\n    <tr>\n      <th>CN</th>\n      <td>179</td>\n      <td>179</td>\n      <td>179</td>\n      <td>179</td>\n    </tr>\n    <tr>\n      <th>EMCI</th>\n      <td>115</td>\n      <td>115</td>\n      <td>115</td>\n      <td>115</td>\n    </tr>\n    <tr>\n      <th>LMCI</th>\n      <td>175</td>\n      <td>175</td>\n      <td>175</td>\n      <td>175</td>\n    </tr>\n    <tr>\n      <th>SMC</th>\n      <td>52</td>\n      <td>52</td>\n      <td>52</td>\n      <td>52</td>\n    </tr>\n    <tr>\n      <th rowspan=\"5\" valign=\"top\">Male</th>\n      <th>AD</th>\n      <td>134</td>\n      <td>134</td>\n      <td>134</td>\n      <td>134</td>\n    </tr>\n    <tr>\n      <th>CN</th>\n      <td>184</td>\n      <td>184</td>\n      <td>184</td>\n      <td>184</td>\n    </tr>\n    <tr>\n      <th>EMCI</th>\n      <td>139</td>\n      <td>139</td>\n      <td>139</td>\n      <td>139</td>\n    </tr>\n    <tr>\n      <th>LMCI</th>\n      <td>268</td>\n      <td>268</td>\n      <td>268</td>\n      <td>268</td>\n    </tr>\n    <tr>\n      <th>SMC</th>\n      <td>34</td>\n      <td>34</td>\n      <td>34</td>\n      <td>34</td>\n    </tr>\n  </tbody>\n</table>\n</div>"
     },
     "metadata": {},
     "execution_count": 4
    }
   ],
   "source": [
    "qt_pad.loc[:,('RID','PTGENDER','DX.bl','AGE','PTEDUCAT','APOE4')].groupby(['PTGENDER', 'DX.bl']).count()"
   ]
  },
  {
   "source": [
    "## Checking samples in metabolomics\n",
    "\n",
    "### Biocrates"
   ],
   "cell_type": "markdown",
   "metadata": {}
  },
  {
   "cell_type": "code",
   "execution_count": 5,
   "metadata": {},
   "outputs": [
    {
     "output_type": "stream",
     "name": "stdout",
     "text": [
      "There are 1353 intersected IDs in Biocrates p180 and Phenotypes\n"
     ]
    }
   ],
   "source": [
    "# Read files\n",
    "p180_adni1_fia   = pd.read_csv('~/mah546/default/datasets/ADNI/Biospecimen/Biospecimen_Results/ADMC/Biocrates_p180/ADMCDUKEP180FIA_01_15_16.csv')\n",
    "p180_adni2go_fia = pd.read_csv('~/mah546/default/datasets/ADNI/Biospecimen/Biospecimen_Results/ADMC/Biocrates_p180/ADMCDUKEP180FIAADNI2GO.csv')\n",
    "#Note that fia and uplc methods contain the same samples, so we won't read the uplc\n",
    "\n",
    "# Remove control samples\n",
    "def remove_controls(dat):\n",
    "    dat = dat[dat['RID'] != 999999]\n",
    "    return(dat)\n",
    "\n",
    "p180_adni1_fia   = remove_controls(p180_adni1_fia)\n",
    "p180_adni2go_fia = remove_controls(p180_adni2go_fia)\n",
    "\n",
    "# Get IDs from ADNI 1, 2 and GO together \n",
    "p180_IDs = pd.Series(pd.concat([p180_adni1_fia['RID'], p180_adni2go_fia['RID']]).unique())\n",
    "\n",
    "# Store IDs that are on both datasets\n",
    "final_IDs = p180_IDs[p180_IDs.isin(qt_pad['RID'])]\n",
    "print('There are ' + str(sum(p180_IDs.isin(qt_pad['RID']))) + ' intersected IDs in Biocrates p180 and Phenotypes')"
   ]
  },
  {
   "source": [
    "### Nightingale"
   ],
   "cell_type": "markdown",
   "metadata": {}
  },
  {
   "cell_type": "code",
   "execution_count": 6,
   "metadata": {},
   "outputs": [
    {
     "output_type": "stream",
     "name": "stdout",
     "text": [
      "There are 1320 intersected IDs in all datasets\n"
     ]
    }
   ],
   "source": [
    "# Read file\n",
    "nigth2 = pd.read_csv('~/mah546/default/datasets/ADNI/Biospecimen/Biospecimen_Results/ADMC/Nightingale/ADNINIGHTINGALE2.csv')\n",
    "nigth2_IDs = pd.Series(nigth2['RID'].unique())\n",
    "\n",
    "# Store IDs that are on all datasets\n",
    "final_IDs = nigth2_IDs[nigth2_IDs.isin(final_IDs)]\n",
    "print('There are ' + str(len(final_IDs)) + ' intersected IDs in all datasets')\n"
   ]
  },
  {
   "cell_type": "code",
   "execution_count": 7,
   "metadata": {},
   "outputs": [],
   "source": [
    "# Save the final IDs\n",
    "final_IDs.to_csv('../results/FinalIDs.csv', header=False, index=False) "
   ]
  },
  {
   "source": [
    "## Summary from the final IDs"
   ],
   "cell_type": "markdown",
   "metadata": {}
  },
  {
   "cell_type": "code",
   "execution_count": 9,
   "metadata": {},
   "outputs": [
    {
     "output_type": "stream",
     "name": "stdout",
     "text": [
      "                RID  AGE  PTEDUCAT  APOE4\nPTGENDER DX.bl                           \nFemale   AD     106  106       106    106\n         CN     172  172       172    172\n         EMCI   112  112       112    112\n         LMCI   165  165       165    165\n         SMC     50   50        50     50\nMale     AD     124  124       124    124\n         CN     177  177       177    177\n         EMCI   130  130       130    130\n         LMCI   250  250       250    250\n         SMC     34   34        34     34\n"
     ]
    }
   ],
   "source": [
    "final_qt_pad = qt_pad[qt_pad['RID'].isin(final_IDs)]\n",
    "print(final_qt_pad.loc[:,('RID','PTGENDER','DX.bl','AGE','PTEDUCAT','APOE4')].groupby(['PTGENDER', 'DX.bl']).count())"
   ]
  },
  {
   "cell_type": "code",
   "execution_count": null,
   "metadata": {},
   "outputs": [],
   "source": []
  }
 ]
}